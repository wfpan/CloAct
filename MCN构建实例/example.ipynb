{
 "cells": [
  {
   "cell_type": "code",
   "execution_count": 1,
   "outputs": [],
   "source": [
    "import pandas as pd\n",
    "import numpy as np"
   ],
   "metadata": {
    "collapsed": false,
    "ExecuteTime": {
     "end_time": "2025-05-26T10:55:19.327447800Z",
     "start_time": "2025-05-26T10:55:19.042199200Z"
    }
   }
  },
  {
   "cell_type": "markdown",
   "source": [
    "$$\n",
    "MCN = \\left( N_m, L_m \\right)\n",
    "$$"
   ],
   "metadata": {
    "collapsed": false
   }
  },
  {
   "cell_type": "markdown",
   "source": [
    "# Node Set"
   ],
   "metadata": {
    "collapsed": false
   }
  },
  {
   "cell_type": "code",
   "execution_count": 2,
   "outputs": [
    {
     "data": {
      "text/plain": "   classId                          class\n0        7       maze.gui.ScriptInfoPanel\n1       10           maze.model.MazeModel\n2       12          maze.gui.ScriptEditor\n3       21    maze.gui.MazePainterDefault\n4       22      maze.util.ListenerSubject\n5       25      maze.model.RobotPathModel\n6       31           maze.gui.StatTracker\n7       32             maze.util.Listener\n8       33              maze.ai.RobotBase\n9       35       maze.model.CellSizeModel\n10      36          maze.model.RobotModel\n11      37                maze.ai.Tremaux\n12      40        maze.gui.MenuControlled\n13      45        maze.ai.RobotController\n14      46                      maze.Main\n15      51            maze.model.MazeCell\n16      52  maze.model.MazeModel.MazeWall\n17      55      maze.gui.ScriptEditorPage\n18      56           maze.gui.MazePainter\n19      57              maze.gui.MazeList\n20      58         maze.gui.RobotAnimator\n21      59          maze.gui.StatViewPage\n22      62              maze.gui.MazeView\n23      68        maze.gui.MazeViewerPage",
      "text/html": "<div>\n<style scoped>\n    .dataframe tbody tr th:only-of-type {\n        vertical-align: middle;\n    }\n\n    .dataframe tbody tr th {\n        vertical-align: top;\n    }\n\n    .dataframe thead th {\n        text-align: right;\n    }\n</style>\n<table border=\"1\" class=\"dataframe\">\n  <thead>\n    <tr style=\"text-align: right;\">\n      <th></th>\n      <th>classId</th>\n      <th>class</th>\n    </tr>\n  </thead>\n  <tbody>\n    <tr>\n      <th>0</th>\n      <td>7</td>\n      <td>maze.gui.ScriptInfoPanel</td>\n    </tr>\n    <tr>\n      <th>1</th>\n      <td>10</td>\n      <td>maze.model.MazeModel</td>\n    </tr>\n    <tr>\n      <th>2</th>\n      <td>12</td>\n      <td>maze.gui.ScriptEditor</td>\n    </tr>\n    <tr>\n      <th>3</th>\n      <td>21</td>\n      <td>maze.gui.MazePainterDefault</td>\n    </tr>\n    <tr>\n      <th>4</th>\n      <td>22</td>\n      <td>maze.util.ListenerSubject</td>\n    </tr>\n    <tr>\n      <th>5</th>\n      <td>25</td>\n      <td>maze.model.RobotPathModel</td>\n    </tr>\n    <tr>\n      <th>6</th>\n      <td>31</td>\n      <td>maze.gui.StatTracker</td>\n    </tr>\n    <tr>\n      <th>7</th>\n      <td>32</td>\n      <td>maze.util.Listener</td>\n    </tr>\n    <tr>\n      <th>8</th>\n      <td>33</td>\n      <td>maze.ai.RobotBase</td>\n    </tr>\n    <tr>\n      <th>9</th>\n      <td>35</td>\n      <td>maze.model.CellSizeModel</td>\n    </tr>\n    <tr>\n      <th>10</th>\n      <td>36</td>\n      <td>maze.model.RobotModel</td>\n    </tr>\n    <tr>\n      <th>11</th>\n      <td>37</td>\n      <td>maze.ai.Tremaux</td>\n    </tr>\n    <tr>\n      <th>12</th>\n      <td>40</td>\n      <td>maze.gui.MenuControlled</td>\n    </tr>\n    <tr>\n      <th>13</th>\n      <td>45</td>\n      <td>maze.ai.RobotController</td>\n    </tr>\n    <tr>\n      <th>14</th>\n      <td>46</td>\n      <td>maze.Main</td>\n    </tr>\n    <tr>\n      <th>15</th>\n      <td>51</td>\n      <td>maze.model.MazeCell</td>\n    </tr>\n    <tr>\n      <th>16</th>\n      <td>52</td>\n      <td>maze.model.MazeModel.MazeWall</td>\n    </tr>\n    <tr>\n      <th>17</th>\n      <td>55</td>\n      <td>maze.gui.ScriptEditorPage</td>\n    </tr>\n    <tr>\n      <th>18</th>\n      <td>56</td>\n      <td>maze.gui.MazePainter</td>\n    </tr>\n    <tr>\n      <th>19</th>\n      <td>57</td>\n      <td>maze.gui.MazeList</td>\n    </tr>\n    <tr>\n      <th>20</th>\n      <td>58</td>\n      <td>maze.gui.RobotAnimator</td>\n    </tr>\n    <tr>\n      <th>21</th>\n      <td>59</td>\n      <td>maze.gui.StatViewPage</td>\n    </tr>\n    <tr>\n      <th>22</th>\n      <td>62</td>\n      <td>maze.gui.MazeView</td>\n    </tr>\n    <tr>\n      <th>23</th>\n      <td>68</td>\n      <td>maze.gui.MazeViewerPage</td>\n    </tr>\n  </tbody>\n</table>\n</div>"
     },
     "execution_count": 2,
     "metadata": {},
     "output_type": "execute_result"
    }
   ],
   "source": [
    "data = \"\"\"\n",
    "7\tmaze.gui.ScriptInfoPanel\n",
    "10\tmaze.model.MazeModel\n",
    "12\tmaze.gui.ScriptEditor\n",
    "21\tmaze.gui.MazePainterDefault\n",
    "22\tmaze.util.ListenerSubject\n",
    "25\tmaze.model.RobotPathModel\n",
    "31\tmaze.gui.StatTracker\n",
    "32\tmaze.util.Listener\n",
    "33\tmaze.ai.RobotBase\n",
    "35\tmaze.model.CellSizeModel\n",
    "36\tmaze.model.RobotModel\n",
    "37\tmaze.ai.Tremaux\n",
    "40\tmaze.gui.MenuControlled\n",
    "45\tmaze.ai.RobotController\n",
    "46\tmaze.Main\n",
    "51\tmaze.model.MazeCell\n",
    "52\tmaze.model.MazeModel.MazeWall\n",
    "55\tmaze.gui.ScriptEditorPage\n",
    "56\tmaze.gui.MazePainter\n",
    "57\tmaze.gui.MazeList\n",
    "58\tmaze.gui.RobotAnimator\n",
    "59\tmaze.gui.StatViewPage\n",
    "62\tmaze.gui.MazeView\n",
    "68\tmaze.gui.MazeViewerPage\n",
    "\"\"\"\n",
    "\n",
    "rows = [line.strip().split() for line in data.strip().split('\\n')]\n",
    "\n",
    "df = pd.DataFrame(rows, columns=['classId', 'class'])\n",
    "\n",
    "df"
   ],
   "metadata": {
    "collapsed": false,
    "ExecuteTime": {
     "end_time": "2025-05-26T10:55:19.475667800Z",
     "start_time": "2025-05-26T10:55:19.321448500Z"
    }
   }
  },
  {
   "cell_type": "markdown",
   "source": [
    "# Edge Set"
   ],
   "metadata": {
    "collapsed": false
   }
  },
  {
   "cell_type": "markdown",
   "source": [
    "## Motif Id 38"
   ],
   "metadata": {
    "collapsed": false
   }
  },
  {
   "cell_type": "code",
   "execution_count": 3,
   "outputs": [
    {
     "data": {
      "text/plain": "   node1 node2 node3\n0     62    25    22\n1     68    58    33\n2     68    58    46\n3     58    45    33\n4     55    12     7\n5     59    31    10\n6     68    57    46\n7     62    22    32\n8     62    10    22\n9     68    58    62\n10    58    45    46\n11    37    33    36\n12    62    10    51\n13    62    10    52\n14    59    31    33",
      "text/html": "<div>\n<style scoped>\n    .dataframe tbody tr th:only-of-type {\n        vertical-align: middle;\n    }\n\n    .dataframe tbody tr th {\n        vertical-align: top;\n    }\n\n    .dataframe thead th {\n        text-align: right;\n    }\n</style>\n<table border=\"1\" class=\"dataframe\">\n  <thead>\n    <tr style=\"text-align: right;\">\n      <th></th>\n      <th>node1</th>\n      <th>node2</th>\n      <th>node3</th>\n    </tr>\n  </thead>\n  <tbody>\n    <tr>\n      <th>0</th>\n      <td>62</td>\n      <td>25</td>\n      <td>22</td>\n    </tr>\n    <tr>\n      <th>1</th>\n      <td>68</td>\n      <td>58</td>\n      <td>33</td>\n    </tr>\n    <tr>\n      <th>2</th>\n      <td>68</td>\n      <td>58</td>\n      <td>46</td>\n    </tr>\n    <tr>\n      <th>3</th>\n      <td>58</td>\n      <td>45</td>\n      <td>33</td>\n    </tr>\n    <tr>\n      <th>4</th>\n      <td>55</td>\n      <td>12</td>\n      <td>7</td>\n    </tr>\n    <tr>\n      <th>5</th>\n      <td>59</td>\n      <td>31</td>\n      <td>10</td>\n    </tr>\n    <tr>\n      <th>6</th>\n      <td>68</td>\n      <td>57</td>\n      <td>46</td>\n    </tr>\n    <tr>\n      <th>7</th>\n      <td>62</td>\n      <td>22</td>\n      <td>32</td>\n    </tr>\n    <tr>\n      <th>8</th>\n      <td>62</td>\n      <td>10</td>\n      <td>22</td>\n    </tr>\n    <tr>\n      <th>9</th>\n      <td>68</td>\n      <td>58</td>\n      <td>62</td>\n    </tr>\n    <tr>\n      <th>10</th>\n      <td>58</td>\n      <td>45</td>\n      <td>46</td>\n    </tr>\n    <tr>\n      <th>11</th>\n      <td>37</td>\n      <td>33</td>\n      <td>36</td>\n    </tr>\n    <tr>\n      <th>12</th>\n      <td>62</td>\n      <td>10</td>\n      <td>51</td>\n    </tr>\n    <tr>\n      <th>13</th>\n      <td>62</td>\n      <td>10</td>\n      <td>52</td>\n    </tr>\n    <tr>\n      <th>14</th>\n      <td>59</td>\n      <td>31</td>\n      <td>33</td>\n    </tr>\n  </tbody>\n</table>\n</div>"
     },
     "execution_count": 3,
     "metadata": {},
     "output_type": "execute_result"
    }
   ],
   "source": [
    "data = \"\"\"\n",
    "62    25    22\n",
    "68    58    33\n",
    "68    58    46\n",
    "58    45    33\n",
    "55    12    7\n",
    "59    31    10\n",
    "68    57    46\n",
    "62    22    32\n",
    "62    10    22\n",
    "68    58    62\n",
    "58    45    46\n",
    "37    33    36\n",
    "62    10    51\n",
    "62    10    52\n",
    "59    31    33\n",
    "\"\"\"\n",
    "\n",
    "\n",
    "rows = [line.strip().split() for line in data.strip().split('\\n')]\n",
    "\n",
    "\n",
    "df_3 = pd.DataFrame(rows, columns=['node1', 'node2', 'node3'])\n",
    "df_3"
   ],
   "metadata": {
    "collapsed": false,
    "ExecuteTime": {
     "end_time": "2025-05-26T10:55:19.555773900Z",
     "start_time": "2025-05-26T10:55:19.435657500Z"
    }
   }
  },
  {
   "cell_type": "markdown",
   "source": [
    "## Motif Id 78"
   ],
   "metadata": {
    "collapsed": false
   }
  },
  {
   "cell_type": "code",
   "execution_count": 4,
   "outputs": [
    {
     "data": {
      "text/plain": "   node1 node2 node3 node4\n0     62    25    22    21\n1     68    57    46    33\n2     68    58    33    57\n3     62    22    32    21\n4     62    21    56    10\n5     68    57    62    33\n6     62    25    51    21\n7     45    33    36    10\n8     62    25    22    35\n9     62    25    22    52\n10    62    25    22    56\n11    55    12     7    40\n12    55    12     7    46\n13    59    31    10    57\n14    62    10    22    21",
      "text/html": "<div>\n<style scoped>\n    .dataframe tbody tr th:only-of-type {\n        vertical-align: middle;\n    }\n\n    .dataframe tbody tr th {\n        vertical-align: top;\n    }\n\n    .dataframe thead th {\n        text-align: right;\n    }\n</style>\n<table border=\"1\" class=\"dataframe\">\n  <thead>\n    <tr style=\"text-align: right;\">\n      <th></th>\n      <th>node1</th>\n      <th>node2</th>\n      <th>node3</th>\n      <th>node4</th>\n    </tr>\n  </thead>\n  <tbody>\n    <tr>\n      <th>0</th>\n      <td>62</td>\n      <td>25</td>\n      <td>22</td>\n      <td>21</td>\n    </tr>\n    <tr>\n      <th>1</th>\n      <td>68</td>\n      <td>57</td>\n      <td>46</td>\n      <td>33</td>\n    </tr>\n    <tr>\n      <th>2</th>\n      <td>68</td>\n      <td>58</td>\n      <td>33</td>\n      <td>57</td>\n    </tr>\n    <tr>\n      <th>3</th>\n      <td>62</td>\n      <td>22</td>\n      <td>32</td>\n      <td>21</td>\n    </tr>\n    <tr>\n      <th>4</th>\n      <td>62</td>\n      <td>21</td>\n      <td>56</td>\n      <td>10</td>\n    </tr>\n    <tr>\n      <th>5</th>\n      <td>68</td>\n      <td>57</td>\n      <td>62</td>\n      <td>33</td>\n    </tr>\n    <tr>\n      <th>6</th>\n      <td>62</td>\n      <td>25</td>\n      <td>51</td>\n      <td>21</td>\n    </tr>\n    <tr>\n      <th>7</th>\n      <td>45</td>\n      <td>33</td>\n      <td>36</td>\n      <td>10</td>\n    </tr>\n    <tr>\n      <th>8</th>\n      <td>62</td>\n      <td>25</td>\n      <td>22</td>\n      <td>35</td>\n    </tr>\n    <tr>\n      <th>9</th>\n      <td>62</td>\n      <td>25</td>\n      <td>22</td>\n      <td>52</td>\n    </tr>\n    <tr>\n      <th>10</th>\n      <td>62</td>\n      <td>25</td>\n      <td>22</td>\n      <td>56</td>\n    </tr>\n    <tr>\n      <th>11</th>\n      <td>55</td>\n      <td>12</td>\n      <td>7</td>\n      <td>40</td>\n    </tr>\n    <tr>\n      <th>12</th>\n      <td>55</td>\n      <td>12</td>\n      <td>7</td>\n      <td>46</td>\n    </tr>\n    <tr>\n      <th>13</th>\n      <td>59</td>\n      <td>31</td>\n      <td>10</td>\n      <td>57</td>\n    </tr>\n    <tr>\n      <th>14</th>\n      <td>62</td>\n      <td>10</td>\n      <td>22</td>\n      <td>21</td>\n    </tr>\n  </tbody>\n</table>\n</div>"
     },
     "execution_count": 4,
     "metadata": {},
     "output_type": "execute_result"
    }
   ],
   "source": [
    "data = \"\"\"\n",
    "62\t25\t22\t21\n",
    "68\t57\t46\t33\n",
    "68\t58\t33\t57\n",
    "62\t22\t32\t21\n",
    "62\t21\t56\t10\n",
    "68\t57\t62\t33\n",
    "62\t25\t51\t21\n",
    "45\t33\t36\t10\n",
    "62\t25\t22\t35\n",
    "62\t25\t22\t52\n",
    "62\t25\t22\t56\n",
    "55\t12\t7\t40\n",
    "55\t12\t7\t46\n",
    "59\t31\t10\t57\n",
    "62\t10\t22\t21\n",
    "\"\"\"\n",
    "\n",
    "rows = [line.strip().split() for line in data.strip().split('\\n')]\n",
    "\n",
    "df_4 = pd.DataFrame(rows, columns=['node1', 'node2', 'node3', 'node4'])\n",
    "df_4"
   ],
   "metadata": {
    "collapsed": false,
    "ExecuteTime": {
     "end_time": "2025-05-26T10:55:19.634095Z",
     "start_time": "2025-05-26T10:55:19.524755400Z"
    }
   }
  },
  {
   "cell_type": "markdown",
   "source": [
    "$$\n",
    "u_{i}\n",
    "$$"
   ],
   "metadata": {
    "collapsed": false
   }
  },
  {
   "cell_type": "code",
   "execution_count": 5,
   "outputs": [
    {
     "data": {
      "text/plain": "    7  10  12  22  25  31  32  33  36  37  45  46  51  52  55  57  58  59  62  \\\n7   0   0   0   0   0   0   0   0   0   0   0   0   0   0   0   0   0   0   0   \n10  0   0   0   1   0   0   0   0   0   0   0   0   1   1   0   0   0   0   0   \n12  1   0   0   0   0   0   0   0   0   0   0   0   0   0   0   0   0   0   0   \n22  0   0   0   0   0   0   1   0   0   0   0   0   0   0   0   0   0   0   0   \n25  0   0   0   1   0   0   0   0   0   0   0   0   0   0   0   0   0   0   0   \n31  0   1   0   0   0   0   0   1   0   0   0   0   0   0   0   0   0   0   0   \n32  0   0   0   0   0   0   0   0   0   0   0   0   0   0   0   0   0   0   0   \n33  0   0   0   0   0   0   0   0   1   0   0   0   0   0   0   0   0   0   0   \n36  0   0   0   0   0   0   0   0   0   0   0   0   0   0   0   0   0   0   0   \n37  0   0   0   0   0   0   0   1   1   0   0   0   0   0   0   0   0   0   0   \n45  0   0   0   0   0   0   0   1   0   0   0   1   0   0   0   0   0   0   0   \n46  0   0   0   0   0   0   0   0   0   0   0   0   0   0   0   0   0   0   0   \n51  0   0   0   0   0   0   0   0   0   0   0   0   0   0   0   0   0   0   0   \n52  0   0   0   0   0   0   0   0   0   0   0   0   0   0   0   0   0   0   0   \n55  1   0   1   0   0   0   0   0   0   0   0   0   0   0   0   0   0   0   0   \n57  0   0   0   0   0   0   0   0   0   0   0   1   0   0   0   0   0   0   0   \n58  0   0   0   0   0   0   0   2   0   0   2   2   0   0   0   0   0   0   1   \n59  0   1   0   0   0   2   0   1   0   0   0   0   0   0   0   0   0   0   0   \n62  0   3   0   3   1   0   1   0   0   0   0   0   1   1   0   0   0   0   0   \n68  0   0   0   0   0   0   0   1   0   0   0   2   0   0   0   1   3   0   1   \n\n    68  \n7    0  \n10   0  \n12   0  \n22   0  \n25   0  \n31   0  \n32   0  \n33   0  \n36   0  \n37   0  \n45   0  \n46   0  \n51   0  \n52   0  \n55   0  \n57   0  \n58   0  \n59   0  \n62   0  \n68   0  ",
      "text/html": "<div>\n<style scoped>\n    .dataframe tbody tr th:only-of-type {\n        vertical-align: middle;\n    }\n\n    .dataframe tbody tr th {\n        vertical-align: top;\n    }\n\n    .dataframe thead th {\n        text-align: right;\n    }\n</style>\n<table border=\"1\" class=\"dataframe\">\n  <thead>\n    <tr style=\"text-align: right;\">\n      <th></th>\n      <th>7</th>\n      <th>10</th>\n      <th>12</th>\n      <th>22</th>\n      <th>25</th>\n      <th>31</th>\n      <th>32</th>\n      <th>33</th>\n      <th>36</th>\n      <th>37</th>\n      <th>45</th>\n      <th>46</th>\n      <th>51</th>\n      <th>52</th>\n      <th>55</th>\n      <th>57</th>\n      <th>58</th>\n      <th>59</th>\n      <th>62</th>\n      <th>68</th>\n    </tr>\n  </thead>\n  <tbody>\n    <tr>\n      <th>7</th>\n      <td>0</td>\n      <td>0</td>\n      <td>0</td>\n      <td>0</td>\n      <td>0</td>\n      <td>0</td>\n      <td>0</td>\n      <td>0</td>\n      <td>0</td>\n      <td>0</td>\n      <td>0</td>\n      <td>0</td>\n      <td>0</td>\n      <td>0</td>\n      <td>0</td>\n      <td>0</td>\n      <td>0</td>\n      <td>0</td>\n      <td>0</td>\n      <td>0</td>\n    </tr>\n    <tr>\n      <th>10</th>\n      <td>0</td>\n      <td>0</td>\n      <td>0</td>\n      <td>1</td>\n      <td>0</td>\n      <td>0</td>\n      <td>0</td>\n      <td>0</td>\n      <td>0</td>\n      <td>0</td>\n      <td>0</td>\n      <td>0</td>\n      <td>1</td>\n      <td>1</td>\n      <td>0</td>\n      <td>0</td>\n      <td>0</td>\n      <td>0</td>\n      <td>0</td>\n      <td>0</td>\n    </tr>\n    <tr>\n      <th>12</th>\n      <td>1</td>\n      <td>0</td>\n      <td>0</td>\n      <td>0</td>\n      <td>0</td>\n      <td>0</td>\n      <td>0</td>\n      <td>0</td>\n      <td>0</td>\n      <td>0</td>\n      <td>0</td>\n      <td>0</td>\n      <td>0</td>\n      <td>0</td>\n      <td>0</td>\n      <td>0</td>\n      <td>0</td>\n      <td>0</td>\n      <td>0</td>\n      <td>0</td>\n    </tr>\n    <tr>\n      <th>22</th>\n      <td>0</td>\n      <td>0</td>\n      <td>0</td>\n      <td>0</td>\n      <td>0</td>\n      <td>0</td>\n      <td>1</td>\n      <td>0</td>\n      <td>0</td>\n      <td>0</td>\n      <td>0</td>\n      <td>0</td>\n      <td>0</td>\n      <td>0</td>\n      <td>0</td>\n      <td>0</td>\n      <td>0</td>\n      <td>0</td>\n      <td>0</td>\n      <td>0</td>\n    </tr>\n    <tr>\n      <th>25</th>\n      <td>0</td>\n      <td>0</td>\n      <td>0</td>\n      <td>1</td>\n      <td>0</td>\n      <td>0</td>\n      <td>0</td>\n      <td>0</td>\n      <td>0</td>\n      <td>0</td>\n      <td>0</td>\n      <td>0</td>\n      <td>0</td>\n      <td>0</td>\n      <td>0</td>\n      <td>0</td>\n      <td>0</td>\n      <td>0</td>\n      <td>0</td>\n      <td>0</td>\n    </tr>\n    <tr>\n      <th>31</th>\n      <td>0</td>\n      <td>1</td>\n      <td>0</td>\n      <td>0</td>\n      <td>0</td>\n      <td>0</td>\n      <td>0</td>\n      <td>1</td>\n      <td>0</td>\n      <td>0</td>\n      <td>0</td>\n      <td>0</td>\n      <td>0</td>\n      <td>0</td>\n      <td>0</td>\n      <td>0</td>\n      <td>0</td>\n      <td>0</td>\n      <td>0</td>\n      <td>0</td>\n    </tr>\n    <tr>\n      <th>32</th>\n      <td>0</td>\n      <td>0</td>\n      <td>0</td>\n      <td>0</td>\n      <td>0</td>\n      <td>0</td>\n      <td>0</td>\n      <td>0</td>\n      <td>0</td>\n      <td>0</td>\n      <td>0</td>\n      <td>0</td>\n      <td>0</td>\n      <td>0</td>\n      <td>0</td>\n      <td>0</td>\n      <td>0</td>\n      <td>0</td>\n      <td>0</td>\n      <td>0</td>\n    </tr>\n    <tr>\n      <th>33</th>\n      <td>0</td>\n      <td>0</td>\n      <td>0</td>\n      <td>0</td>\n      <td>0</td>\n      <td>0</td>\n      <td>0</td>\n      <td>0</td>\n      <td>1</td>\n      <td>0</td>\n      <td>0</td>\n      <td>0</td>\n      <td>0</td>\n      <td>0</td>\n      <td>0</td>\n      <td>0</td>\n      <td>0</td>\n      <td>0</td>\n      <td>0</td>\n      <td>0</td>\n    </tr>\n    <tr>\n      <th>36</th>\n      <td>0</td>\n      <td>0</td>\n      <td>0</td>\n      <td>0</td>\n      <td>0</td>\n      <td>0</td>\n      <td>0</td>\n      <td>0</td>\n      <td>0</td>\n      <td>0</td>\n      <td>0</td>\n      <td>0</td>\n      <td>0</td>\n      <td>0</td>\n      <td>0</td>\n      <td>0</td>\n      <td>0</td>\n      <td>0</td>\n      <td>0</td>\n      <td>0</td>\n    </tr>\n    <tr>\n      <th>37</th>\n      <td>0</td>\n      <td>0</td>\n      <td>0</td>\n      <td>0</td>\n      <td>0</td>\n      <td>0</td>\n      <td>0</td>\n      <td>1</td>\n      <td>1</td>\n      <td>0</td>\n      <td>0</td>\n      <td>0</td>\n      <td>0</td>\n      <td>0</td>\n      <td>0</td>\n      <td>0</td>\n      <td>0</td>\n      <td>0</td>\n      <td>0</td>\n      <td>0</td>\n    </tr>\n    <tr>\n      <th>45</th>\n      <td>0</td>\n      <td>0</td>\n      <td>0</td>\n      <td>0</td>\n      <td>0</td>\n      <td>0</td>\n      <td>0</td>\n      <td>1</td>\n      <td>0</td>\n      <td>0</td>\n      <td>0</td>\n      <td>1</td>\n      <td>0</td>\n      <td>0</td>\n      <td>0</td>\n      <td>0</td>\n      <td>0</td>\n      <td>0</td>\n      <td>0</td>\n      <td>0</td>\n    </tr>\n    <tr>\n      <th>46</th>\n      <td>0</td>\n      <td>0</td>\n      <td>0</td>\n      <td>0</td>\n      <td>0</td>\n      <td>0</td>\n      <td>0</td>\n      <td>0</td>\n      <td>0</td>\n      <td>0</td>\n      <td>0</td>\n      <td>0</td>\n      <td>0</td>\n      <td>0</td>\n      <td>0</td>\n      <td>0</td>\n      <td>0</td>\n      <td>0</td>\n      <td>0</td>\n      <td>0</td>\n    </tr>\n    <tr>\n      <th>51</th>\n      <td>0</td>\n      <td>0</td>\n      <td>0</td>\n      <td>0</td>\n      <td>0</td>\n      <td>0</td>\n      <td>0</td>\n      <td>0</td>\n      <td>0</td>\n      <td>0</td>\n      <td>0</td>\n      <td>0</td>\n      <td>0</td>\n      <td>0</td>\n      <td>0</td>\n      <td>0</td>\n      <td>0</td>\n      <td>0</td>\n      <td>0</td>\n      <td>0</td>\n    </tr>\n    <tr>\n      <th>52</th>\n      <td>0</td>\n      <td>0</td>\n      <td>0</td>\n      <td>0</td>\n      <td>0</td>\n      <td>0</td>\n      <td>0</td>\n      <td>0</td>\n      <td>0</td>\n      <td>0</td>\n      <td>0</td>\n      <td>0</td>\n      <td>0</td>\n      <td>0</td>\n      <td>0</td>\n      <td>0</td>\n      <td>0</td>\n      <td>0</td>\n      <td>0</td>\n      <td>0</td>\n    </tr>\n    <tr>\n      <th>55</th>\n      <td>1</td>\n      <td>0</td>\n      <td>1</td>\n      <td>0</td>\n      <td>0</td>\n      <td>0</td>\n      <td>0</td>\n      <td>0</td>\n      <td>0</td>\n      <td>0</td>\n      <td>0</td>\n      <td>0</td>\n      <td>0</td>\n      <td>0</td>\n      <td>0</td>\n      <td>0</td>\n      <td>0</td>\n      <td>0</td>\n      <td>0</td>\n      <td>0</td>\n    </tr>\n    <tr>\n      <th>57</th>\n      <td>0</td>\n      <td>0</td>\n      <td>0</td>\n      <td>0</td>\n      <td>0</td>\n      <td>0</td>\n      <td>0</td>\n      <td>0</td>\n      <td>0</td>\n      <td>0</td>\n      <td>0</td>\n      <td>1</td>\n      <td>0</td>\n      <td>0</td>\n      <td>0</td>\n      <td>0</td>\n      <td>0</td>\n      <td>0</td>\n      <td>0</td>\n      <td>0</td>\n    </tr>\n    <tr>\n      <th>58</th>\n      <td>0</td>\n      <td>0</td>\n      <td>0</td>\n      <td>0</td>\n      <td>0</td>\n      <td>0</td>\n      <td>0</td>\n      <td>2</td>\n      <td>0</td>\n      <td>0</td>\n      <td>2</td>\n      <td>2</td>\n      <td>0</td>\n      <td>0</td>\n      <td>0</td>\n      <td>0</td>\n      <td>0</td>\n      <td>0</td>\n      <td>1</td>\n      <td>0</td>\n    </tr>\n    <tr>\n      <th>59</th>\n      <td>0</td>\n      <td>1</td>\n      <td>0</td>\n      <td>0</td>\n      <td>0</td>\n      <td>2</td>\n      <td>0</td>\n      <td>1</td>\n      <td>0</td>\n      <td>0</td>\n      <td>0</td>\n      <td>0</td>\n      <td>0</td>\n      <td>0</td>\n      <td>0</td>\n      <td>0</td>\n      <td>0</td>\n      <td>0</td>\n      <td>0</td>\n      <td>0</td>\n    </tr>\n    <tr>\n      <th>62</th>\n      <td>0</td>\n      <td>3</td>\n      <td>0</td>\n      <td>3</td>\n      <td>1</td>\n      <td>0</td>\n      <td>1</td>\n      <td>0</td>\n      <td>0</td>\n      <td>0</td>\n      <td>0</td>\n      <td>0</td>\n      <td>1</td>\n      <td>1</td>\n      <td>0</td>\n      <td>0</td>\n      <td>0</td>\n      <td>0</td>\n      <td>0</td>\n      <td>0</td>\n    </tr>\n    <tr>\n      <th>68</th>\n      <td>0</td>\n      <td>0</td>\n      <td>0</td>\n      <td>0</td>\n      <td>0</td>\n      <td>0</td>\n      <td>0</td>\n      <td>1</td>\n      <td>0</td>\n      <td>0</td>\n      <td>0</td>\n      <td>2</td>\n      <td>0</td>\n      <td>0</td>\n      <td>0</td>\n      <td>1</td>\n      <td>3</td>\n      <td>0</td>\n      <td>1</td>\n      <td>0</td>\n    </tr>\n  </tbody>\n</table>\n</div>"
     },
     "execution_count": 5,
     "metadata": {},
     "output_type": "execute_result"
    }
   ],
   "source": [
    "nodes_3 = set(df_3['node1']).union(set(df_3['node2'])).union(set(df_3['node3']))\n",
    "nodes_3 = sorted(nodes_3, key=int)\n",
    "matrix_3 = pd.DataFrame(0, index=nodes_3, columns=nodes_3)\n",
    "\n",
    "for _, row in df_3.iterrows():\n",
    "    node1, node2, node3 = row['node1'], row['node2'], row['node3']\n",
    "    matrix_3.loc[node1, node2] += 1\n",
    "    matrix_3.loc[node2, node3] += 1\n",
    "    matrix_3.loc[node1, node3] += 1\n",
    "matrix_3"
   ],
   "metadata": {
    "collapsed": false,
    "ExecuteTime": {
     "end_time": "2025-05-26T10:55:19.758110100Z",
     "start_time": "2025-05-26T10:55:19.601056500Z"
    }
   }
  },
  {
   "cell_type": "code",
   "execution_count": 6,
   "outputs": [
    {
     "data": {
      "text/plain": "    7  10  12  21  22  25  31  32  33  35 ...  46  51  52  55  56  57  58  59  \\\n7   0   0   0   0   0   0   0   0   0   0 ...   0   0   0   0   0   0   0   0   \n10  0   0   0   0   1   0   0   0   0   0 ...   0   0   0   0   0   0   0   0   \n12  2   0   0   0   0   0   0   0   0   0 ...   0   0   0   0   0   0   0   0   \n21  0   0   0   0   0   0   0   0   0   0 ...   0   0   0   0   1   0   0   0   \n22  0   0   0   0   0   0   0   1   0   0 ...   0   0   0   0   0   0   0   0   \n25  0   0   0   0   4   0   0   0   0   0 ...   0   1   0   0   0   0   0   0   \n31  0   1   0   0   0   0   0   0   0   0 ...   0   0   0   0   0   0   0   0   \n32  0   0   0   0   0   0   0   0   0   0 ...   0   0   0   0   0   0   0   0   \n33  0   0   0   0   0   0   0   0   0   0 ...   0   0   0   0   0   0   0   0   \n35  0   0   0   0   0   0   0   0   0   0 ...   0   0   0   0   0   0   0   0   \n36  0   0   0   0   0   0   0   0   0   0 ...   0   0   0   0   0   0   0   0   \n40  0   0   0   0   0   0   0   0   0   0 ...   0   0   0   0   0   0   0   0   \n45  0   1   0   0   0   0   0   0   1   0 ...   0   0   0   0   0   0   0   0   \n46  0   0   0   0   0   0   0   0   0   0 ...   0   0   0   0   0   0   0   0   \n51  0   0   0   0   0   0   0   0   0   0 ...   0   0   0   0   0   0   0   0   \n52  0   0   0   0   0   0   0   0   0   0 ...   0   0   0   0   0   0   0   0   \n55  2   0   2   0   0   0   0   0   0   0 ...   1   0   0   0   0   0   0   0   \n56  0   0   0   0   0   0   0   0   0   0 ...   0   0   0   0   0   0   0   0   \n57  0   0   0   0   0   0   0   0   0   0 ...   1   0   0   0   0   0   0   0   \n58  0   0   0   0   0   0   0   0   1   0 ...   0   0   0   0   0   0   0   0   \n59  0   1   0   0   0   0   1   0   0   0 ...   0   0   0   0   0   1   0   0   \n62  0   2   0   5   6   5   0   1   0   1 ...   0   1   1   0   2   0   0   0   \n68  0   0   0   0   0   0   0   0   3   0 ...   1   0   0   0   0   3   1   0   \n\n    62  68  \n7    0   0  \n10   0   0  \n12   0   0  \n21   0   0  \n22   0   0  \n25   0   0  \n31   0   0  \n32   0   0  \n33   0   0  \n35   0   0  \n36   0   0  \n40   0   0  \n45   0   0  \n46   0   0  \n51   0   0  \n52   0   0  \n55   0   0  \n56   0   0  \n57   1   0  \n58   0   0  \n59   0   0  \n62   0   0  \n68   1   0  \n\n[23 rows x 23 columns]",
      "text/html": "<div>\n<style scoped>\n    .dataframe tbody tr th:only-of-type {\n        vertical-align: middle;\n    }\n\n    .dataframe tbody tr th {\n        vertical-align: top;\n    }\n\n    .dataframe thead th {\n        text-align: right;\n    }\n</style>\n<table border=\"1\" class=\"dataframe\">\n  <thead>\n    <tr style=\"text-align: right;\">\n      <th></th>\n      <th>7</th>\n      <th>10</th>\n      <th>12</th>\n      <th>21</th>\n      <th>22</th>\n      <th>25</th>\n      <th>31</th>\n      <th>32</th>\n      <th>33</th>\n      <th>35</th>\n      <th>...</th>\n      <th>46</th>\n      <th>51</th>\n      <th>52</th>\n      <th>55</th>\n      <th>56</th>\n      <th>57</th>\n      <th>58</th>\n      <th>59</th>\n      <th>62</th>\n      <th>68</th>\n    </tr>\n  </thead>\n  <tbody>\n    <tr>\n      <th>7</th>\n      <td>0</td>\n      <td>0</td>\n      <td>0</td>\n      <td>0</td>\n      <td>0</td>\n      <td>0</td>\n      <td>0</td>\n      <td>0</td>\n      <td>0</td>\n      <td>0</td>\n      <td>...</td>\n      <td>0</td>\n      <td>0</td>\n      <td>0</td>\n      <td>0</td>\n      <td>0</td>\n      <td>0</td>\n      <td>0</td>\n      <td>0</td>\n      <td>0</td>\n      <td>0</td>\n    </tr>\n    <tr>\n      <th>10</th>\n      <td>0</td>\n      <td>0</td>\n      <td>0</td>\n      <td>0</td>\n      <td>1</td>\n      <td>0</td>\n      <td>0</td>\n      <td>0</td>\n      <td>0</td>\n      <td>0</td>\n      <td>...</td>\n      <td>0</td>\n      <td>0</td>\n      <td>0</td>\n      <td>0</td>\n      <td>0</td>\n      <td>0</td>\n      <td>0</td>\n      <td>0</td>\n      <td>0</td>\n      <td>0</td>\n    </tr>\n    <tr>\n      <th>12</th>\n      <td>2</td>\n      <td>0</td>\n      <td>0</td>\n      <td>0</td>\n      <td>0</td>\n      <td>0</td>\n      <td>0</td>\n      <td>0</td>\n      <td>0</td>\n      <td>0</td>\n      <td>...</td>\n      <td>0</td>\n      <td>0</td>\n      <td>0</td>\n      <td>0</td>\n      <td>0</td>\n      <td>0</td>\n      <td>0</td>\n      <td>0</td>\n      <td>0</td>\n      <td>0</td>\n    </tr>\n    <tr>\n      <th>21</th>\n      <td>0</td>\n      <td>0</td>\n      <td>0</td>\n      <td>0</td>\n      <td>0</td>\n      <td>0</td>\n      <td>0</td>\n      <td>0</td>\n      <td>0</td>\n      <td>0</td>\n      <td>...</td>\n      <td>0</td>\n      <td>0</td>\n      <td>0</td>\n      <td>0</td>\n      <td>1</td>\n      <td>0</td>\n      <td>0</td>\n      <td>0</td>\n      <td>0</td>\n      <td>0</td>\n    </tr>\n    <tr>\n      <th>22</th>\n      <td>0</td>\n      <td>0</td>\n      <td>0</td>\n      <td>0</td>\n      <td>0</td>\n      <td>0</td>\n      <td>0</td>\n      <td>1</td>\n      <td>0</td>\n      <td>0</td>\n      <td>...</td>\n      <td>0</td>\n      <td>0</td>\n      <td>0</td>\n      <td>0</td>\n      <td>0</td>\n      <td>0</td>\n      <td>0</td>\n      <td>0</td>\n      <td>0</td>\n      <td>0</td>\n    </tr>\n    <tr>\n      <th>25</th>\n      <td>0</td>\n      <td>0</td>\n      <td>0</td>\n      <td>0</td>\n      <td>4</td>\n      <td>0</td>\n      <td>0</td>\n      <td>0</td>\n      <td>0</td>\n      <td>0</td>\n      <td>...</td>\n      <td>0</td>\n      <td>1</td>\n      <td>0</td>\n      <td>0</td>\n      <td>0</td>\n      <td>0</td>\n      <td>0</td>\n      <td>0</td>\n      <td>0</td>\n      <td>0</td>\n    </tr>\n    <tr>\n      <th>31</th>\n      <td>0</td>\n      <td>1</td>\n      <td>0</td>\n      <td>0</td>\n      <td>0</td>\n      <td>0</td>\n      <td>0</td>\n      <td>0</td>\n      <td>0</td>\n      <td>0</td>\n      <td>...</td>\n      <td>0</td>\n      <td>0</td>\n      <td>0</td>\n      <td>0</td>\n      <td>0</td>\n      <td>0</td>\n      <td>0</td>\n      <td>0</td>\n      <td>0</td>\n      <td>0</td>\n    </tr>\n    <tr>\n      <th>32</th>\n      <td>0</td>\n      <td>0</td>\n      <td>0</td>\n      <td>0</td>\n      <td>0</td>\n      <td>0</td>\n      <td>0</td>\n      <td>0</td>\n      <td>0</td>\n      <td>0</td>\n      <td>...</td>\n      <td>0</td>\n      <td>0</td>\n      <td>0</td>\n      <td>0</td>\n      <td>0</td>\n      <td>0</td>\n      <td>0</td>\n      <td>0</td>\n      <td>0</td>\n      <td>0</td>\n    </tr>\n    <tr>\n      <th>33</th>\n      <td>0</td>\n      <td>0</td>\n      <td>0</td>\n      <td>0</td>\n      <td>0</td>\n      <td>0</td>\n      <td>0</td>\n      <td>0</td>\n      <td>0</td>\n      <td>0</td>\n      <td>...</td>\n      <td>0</td>\n      <td>0</td>\n      <td>0</td>\n      <td>0</td>\n      <td>0</td>\n      <td>0</td>\n      <td>0</td>\n      <td>0</td>\n      <td>0</td>\n      <td>0</td>\n    </tr>\n    <tr>\n      <th>35</th>\n      <td>0</td>\n      <td>0</td>\n      <td>0</td>\n      <td>0</td>\n      <td>0</td>\n      <td>0</td>\n      <td>0</td>\n      <td>0</td>\n      <td>0</td>\n      <td>0</td>\n      <td>...</td>\n      <td>0</td>\n      <td>0</td>\n      <td>0</td>\n      <td>0</td>\n      <td>0</td>\n      <td>0</td>\n      <td>0</td>\n      <td>0</td>\n      <td>0</td>\n      <td>0</td>\n    </tr>\n    <tr>\n      <th>36</th>\n      <td>0</td>\n      <td>0</td>\n      <td>0</td>\n      <td>0</td>\n      <td>0</td>\n      <td>0</td>\n      <td>0</td>\n      <td>0</td>\n      <td>0</td>\n      <td>0</td>\n      <td>...</td>\n      <td>0</td>\n      <td>0</td>\n      <td>0</td>\n      <td>0</td>\n      <td>0</td>\n      <td>0</td>\n      <td>0</td>\n      <td>0</td>\n      <td>0</td>\n      <td>0</td>\n    </tr>\n    <tr>\n      <th>40</th>\n      <td>0</td>\n      <td>0</td>\n      <td>0</td>\n      <td>0</td>\n      <td>0</td>\n      <td>0</td>\n      <td>0</td>\n      <td>0</td>\n      <td>0</td>\n      <td>0</td>\n      <td>...</td>\n      <td>0</td>\n      <td>0</td>\n      <td>0</td>\n      <td>0</td>\n      <td>0</td>\n      <td>0</td>\n      <td>0</td>\n      <td>0</td>\n      <td>0</td>\n      <td>0</td>\n    </tr>\n    <tr>\n      <th>45</th>\n      <td>0</td>\n      <td>1</td>\n      <td>0</td>\n      <td>0</td>\n      <td>0</td>\n      <td>0</td>\n      <td>0</td>\n      <td>0</td>\n      <td>1</td>\n      <td>0</td>\n      <td>...</td>\n      <td>0</td>\n      <td>0</td>\n      <td>0</td>\n      <td>0</td>\n      <td>0</td>\n      <td>0</td>\n      <td>0</td>\n      <td>0</td>\n      <td>0</td>\n      <td>0</td>\n    </tr>\n    <tr>\n      <th>46</th>\n      <td>0</td>\n      <td>0</td>\n      <td>0</td>\n      <td>0</td>\n      <td>0</td>\n      <td>0</td>\n      <td>0</td>\n      <td>0</td>\n      <td>0</td>\n      <td>0</td>\n      <td>...</td>\n      <td>0</td>\n      <td>0</td>\n      <td>0</td>\n      <td>0</td>\n      <td>0</td>\n      <td>0</td>\n      <td>0</td>\n      <td>0</td>\n      <td>0</td>\n      <td>0</td>\n    </tr>\n    <tr>\n      <th>51</th>\n      <td>0</td>\n      <td>0</td>\n      <td>0</td>\n      <td>0</td>\n      <td>0</td>\n      <td>0</td>\n      <td>0</td>\n      <td>0</td>\n      <td>0</td>\n      <td>0</td>\n      <td>...</td>\n      <td>0</td>\n      <td>0</td>\n      <td>0</td>\n      <td>0</td>\n      <td>0</td>\n      <td>0</td>\n      <td>0</td>\n      <td>0</td>\n      <td>0</td>\n      <td>0</td>\n    </tr>\n    <tr>\n      <th>52</th>\n      <td>0</td>\n      <td>0</td>\n      <td>0</td>\n      <td>0</td>\n      <td>0</td>\n      <td>0</td>\n      <td>0</td>\n      <td>0</td>\n      <td>0</td>\n      <td>0</td>\n      <td>...</td>\n      <td>0</td>\n      <td>0</td>\n      <td>0</td>\n      <td>0</td>\n      <td>0</td>\n      <td>0</td>\n      <td>0</td>\n      <td>0</td>\n      <td>0</td>\n      <td>0</td>\n    </tr>\n    <tr>\n      <th>55</th>\n      <td>2</td>\n      <td>0</td>\n      <td>2</td>\n      <td>0</td>\n      <td>0</td>\n      <td>0</td>\n      <td>0</td>\n      <td>0</td>\n      <td>0</td>\n      <td>0</td>\n      <td>...</td>\n      <td>1</td>\n      <td>0</td>\n      <td>0</td>\n      <td>0</td>\n      <td>0</td>\n      <td>0</td>\n      <td>0</td>\n      <td>0</td>\n      <td>0</td>\n      <td>0</td>\n    </tr>\n    <tr>\n      <th>56</th>\n      <td>0</td>\n      <td>0</td>\n      <td>0</td>\n      <td>0</td>\n      <td>0</td>\n      <td>0</td>\n      <td>0</td>\n      <td>0</td>\n      <td>0</td>\n      <td>0</td>\n      <td>...</td>\n      <td>0</td>\n      <td>0</td>\n      <td>0</td>\n      <td>0</td>\n      <td>0</td>\n      <td>0</td>\n      <td>0</td>\n      <td>0</td>\n      <td>0</td>\n      <td>0</td>\n    </tr>\n    <tr>\n      <th>57</th>\n      <td>0</td>\n      <td>0</td>\n      <td>0</td>\n      <td>0</td>\n      <td>0</td>\n      <td>0</td>\n      <td>0</td>\n      <td>0</td>\n      <td>0</td>\n      <td>0</td>\n      <td>...</td>\n      <td>1</td>\n      <td>0</td>\n      <td>0</td>\n      <td>0</td>\n      <td>0</td>\n      <td>0</td>\n      <td>0</td>\n      <td>0</td>\n      <td>1</td>\n      <td>0</td>\n    </tr>\n    <tr>\n      <th>58</th>\n      <td>0</td>\n      <td>0</td>\n      <td>0</td>\n      <td>0</td>\n      <td>0</td>\n      <td>0</td>\n      <td>0</td>\n      <td>0</td>\n      <td>1</td>\n      <td>0</td>\n      <td>...</td>\n      <td>0</td>\n      <td>0</td>\n      <td>0</td>\n      <td>0</td>\n      <td>0</td>\n      <td>0</td>\n      <td>0</td>\n      <td>0</td>\n      <td>0</td>\n      <td>0</td>\n    </tr>\n    <tr>\n      <th>59</th>\n      <td>0</td>\n      <td>1</td>\n      <td>0</td>\n      <td>0</td>\n      <td>0</td>\n      <td>0</td>\n      <td>1</td>\n      <td>0</td>\n      <td>0</td>\n      <td>0</td>\n      <td>...</td>\n      <td>0</td>\n      <td>0</td>\n      <td>0</td>\n      <td>0</td>\n      <td>0</td>\n      <td>1</td>\n      <td>0</td>\n      <td>0</td>\n      <td>0</td>\n      <td>0</td>\n    </tr>\n    <tr>\n      <th>62</th>\n      <td>0</td>\n      <td>2</td>\n      <td>0</td>\n      <td>5</td>\n      <td>6</td>\n      <td>5</td>\n      <td>0</td>\n      <td>1</td>\n      <td>0</td>\n      <td>1</td>\n      <td>...</td>\n      <td>0</td>\n      <td>1</td>\n      <td>1</td>\n      <td>0</td>\n      <td>2</td>\n      <td>0</td>\n      <td>0</td>\n      <td>0</td>\n      <td>0</td>\n      <td>0</td>\n    </tr>\n    <tr>\n      <th>68</th>\n      <td>0</td>\n      <td>0</td>\n      <td>0</td>\n      <td>0</td>\n      <td>0</td>\n      <td>0</td>\n      <td>0</td>\n      <td>0</td>\n      <td>3</td>\n      <td>0</td>\n      <td>...</td>\n      <td>1</td>\n      <td>0</td>\n      <td>0</td>\n      <td>0</td>\n      <td>0</td>\n      <td>3</td>\n      <td>1</td>\n      <td>0</td>\n      <td>1</td>\n      <td>0</td>\n    </tr>\n  </tbody>\n</table>\n<p>23 rows × 23 columns</p>\n</div>"
     },
     "execution_count": 6,
     "metadata": {},
     "output_type": "execute_result"
    }
   ],
   "source": [
    "nodes_4 = set(df_4['node1']).union(set(df_4['node2'])).union(set(df_4['node3'])).union(set(df_4['node4']))\n",
    "nodes_4 = sorted(nodes_4, key=int)\n",
    "matrix_4 = pd.DataFrame(0, index=nodes_4, columns=nodes_4)\n",
    "\n",
    "for _, row in df_4.iterrows():\n",
    "    node1, node2, node3, node4 = row['node1'], row['node2'], row['node3'], row['node4']\n",
    "    matrix_4.loc[node1, node2] += 1\n",
    "    matrix_4.loc[node2, node3] += 1\n",
    "    matrix_4.loc[node1, node3] += 1\n",
    "    matrix_4.loc[node1, node4] += 1\n",
    "\n",
    "matrix_4"
   ],
   "metadata": {
    "collapsed": false,
    "ExecuteTime": {
     "end_time": "2025-05-26T10:55:19.891717100Z",
     "start_time": "2025-05-26T10:55:19.710474800Z"
    }
   }
  },
  {
   "cell_type": "markdown",
   "source": [
    "$$\n",
    "r_{i} = \\frac{o_{i}}{ \\sum_{k}^{j=1} o_{j} }\n",
    "$$"
   ],
   "metadata": {
    "collapsed": false
   }
  },
  {
   "cell_type": "code",
   "execution_count": 7,
   "outputs": [],
   "source": [
    "total_rows = len(df_3) + len(df_4)\n",
    "r_3 = len(df_3) / float(total_rows)\n",
    "r_4 = len(df_4) / float(total_rows)"
   ],
   "metadata": {
    "collapsed": false,
    "ExecuteTime": {
     "end_time": "2025-05-26T10:55:19.912723800Z",
     "start_time": "2025-05-26T10:55:19.851741400Z"
    }
   }
  },
  {
   "cell_type": "markdown",
   "source": [
    "$$\n",
    "W=\\left \\{ \\omega \\left \\langle p,q \\right \\rangle \\mid  \\omega \\left \\langle p,q \\right \\rangle = \\sum_{k}^{i=1} r_{i} \\cdot u_{i} \\left \\langle p,q \\right \\rangle,\\left \\langle p,q \\right \\rangle\\in L_{m} \\right \\}\n",
    "$$"
   ],
   "metadata": {
    "collapsed": false
   }
  },
  {
   "cell_type": "code",
   "execution_count": 8,
   "outputs": [
    {
     "data": {
      "text/plain": "      7   10   12   21   22   25   31   32   33   35 ...    46   51   52   55  \\\n7   0.0  0.0  0.0  0.0  0.0  0.0  0.0  0.0  0.0  0.0 ...   0.0  0.0  0.0  0.0   \n10  0.0  0.0  0.0  0.0  1.0  0.0  0.0  0.0  0.0  0.0 ...   0.0  0.5  0.5  0.0   \n12  1.5  0.0  0.0  0.0  0.0  0.0  0.0  0.0  0.0  0.0 ...   0.0  0.0  0.0  0.0   \n21  0.0  0.0  0.0  0.0  0.0  0.0  0.0  0.0  0.0  0.0 ...   0.0  0.0  0.0  0.0   \n22  0.0  0.0  0.0  0.0  0.0  0.0  0.0  1.0  0.0  0.0 ...   0.0  0.0  0.0  0.0   \n25  0.0  0.0  0.0  0.0  2.5  0.0  0.0  0.0  0.0  0.0 ...   0.0  0.5  0.0  0.0   \n31  0.0  1.0  0.0  0.0  0.0  0.0  0.0  0.0  0.5  0.0 ...   0.0  0.0  0.0  0.0   \n32  0.0  0.0  0.0  0.0  0.0  0.0  0.0  0.0  0.0  0.0 ...   0.0  0.0  0.0  0.0   \n33  0.0  0.0  0.0  0.0  0.0  0.0  0.0  0.0  0.0  0.0 ...   0.0  0.0  0.0  0.0   \n35  0.0  0.0  0.0  0.0  0.0  0.0  0.0  0.0  0.0  0.0 ...   0.0  0.0  0.0  0.0   \n36  0.0  0.0  0.0  0.0  0.0  0.0  0.0  0.0  0.0  0.0 ...   0.0  0.0  0.0  0.0   \n37  0.0  0.0  0.0  0.0  0.0  0.0  0.0  0.0  0.5  0.0 ...   0.0  0.0  0.0  0.0   \n40  0.0  0.0  0.0  0.0  0.0  0.0  0.0  0.0  0.0  0.0 ...   0.0  0.0  0.0  0.0   \n45  0.0  0.5  0.0  0.0  0.0  0.0  0.0  0.0  1.0  0.0 ...   0.5  0.0  0.0  0.0   \n46  0.0  0.0  0.0  0.0  0.0  0.0  0.0  0.0  0.0  0.0 ...   0.0  0.0  0.0  0.0   \n51  0.0  0.0  0.0  0.0  0.0  0.0  0.0  0.0  0.0  0.0 ...   0.0  0.0  0.0  0.0   \n52  0.0  0.0  0.0  0.0  0.0  0.0  0.0  0.0  0.0  0.0 ...   0.0  0.0  0.0  0.0   \n55  1.5  0.0  1.5  0.0  0.0  0.0  0.0  0.0  0.0  0.0 ...   0.5  0.0  0.0  0.0   \n56  0.0  0.0  0.0  0.0  0.0  0.0  0.0  0.0  0.0  0.0 ...   0.0  0.0  0.0  0.0   \n57  0.0  0.0  0.0  0.0  0.0  0.0  0.0  0.0  0.0  0.0 ...   1.0  0.0  0.0  0.0   \n58  0.0  0.0  0.0  0.0  0.0  0.0  0.0  0.0  1.5  0.0 ...   1.0  0.0  0.0  0.0   \n59  0.0  1.0  0.0  0.0  0.0  0.0  1.5  0.0  0.5  0.0 ...   0.0  0.0  0.0  0.0   \n62  0.0  2.5  0.0  2.5  4.5  3.0  0.0  1.0  0.0  0.5 ...   0.0  1.0  1.0  0.0   \n68  0.0  0.0  0.0  0.0  0.0  0.0  0.0  0.0  2.0  0.0 ...   1.5  0.0  0.0  0.0   \n\n     56   57   58   59   62   68  \n7   0.0  0.0  0.0  0.0  0.0  0.0  \n10  0.0  0.0  0.0  0.0  0.0  0.0  \n12  0.0  0.0  0.0  0.0  0.0  0.0  \n21  0.5  0.0  0.0  0.0  0.0  0.0  \n22  0.0  0.0  0.0  0.0  0.0  0.0  \n25  0.0  0.0  0.0  0.0  0.0  0.0  \n31  0.0  0.0  0.0  0.0  0.0  0.0  \n32  0.0  0.0  0.0  0.0  0.0  0.0  \n33  0.0  0.0  0.0  0.0  0.0  0.0  \n35  0.0  0.0  0.0  0.0  0.0  0.0  \n36  0.0  0.0  0.0  0.0  0.0  0.0  \n37  0.0  0.0  0.0  0.0  0.0  0.0  \n40  0.0  0.0  0.0  0.0  0.0  0.0  \n45  0.0  0.0  0.0  0.0  0.0  0.0  \n46  0.0  0.0  0.0  0.0  0.0  0.0  \n51  0.0  0.0  0.0  0.0  0.0  0.0  \n52  0.0  0.0  0.0  0.0  0.0  0.0  \n55  0.0  0.0  0.0  0.0  0.0  0.0  \n56  0.0  0.0  0.0  0.0  0.0  0.0  \n57  0.0  0.0  0.0  0.0  0.5  0.0  \n58  0.0  0.0  0.0  0.0  0.5  0.0  \n59  0.0  0.5  0.0  0.0  0.0  0.0  \n62  1.0  0.0  0.0  0.0  0.0  0.0  \n68  0.0  2.0  2.0  0.0  1.0  0.0  \n\n[24 rows x 24 columns]",
      "text/html": "<div>\n<style scoped>\n    .dataframe tbody tr th:only-of-type {\n        vertical-align: middle;\n    }\n\n    .dataframe tbody tr th {\n        vertical-align: top;\n    }\n\n    .dataframe thead th {\n        text-align: right;\n    }\n</style>\n<table border=\"1\" class=\"dataframe\">\n  <thead>\n    <tr style=\"text-align: right;\">\n      <th></th>\n      <th>7</th>\n      <th>10</th>\n      <th>12</th>\n      <th>21</th>\n      <th>22</th>\n      <th>25</th>\n      <th>31</th>\n      <th>32</th>\n      <th>33</th>\n      <th>35</th>\n      <th>...</th>\n      <th>46</th>\n      <th>51</th>\n      <th>52</th>\n      <th>55</th>\n      <th>56</th>\n      <th>57</th>\n      <th>58</th>\n      <th>59</th>\n      <th>62</th>\n      <th>68</th>\n    </tr>\n  </thead>\n  <tbody>\n    <tr>\n      <th>7</th>\n      <td>0.0</td>\n      <td>0.0</td>\n      <td>0.0</td>\n      <td>0.0</td>\n      <td>0.0</td>\n      <td>0.0</td>\n      <td>0.0</td>\n      <td>0.0</td>\n      <td>0.0</td>\n      <td>0.0</td>\n      <td>...</td>\n      <td>0.0</td>\n      <td>0.0</td>\n      <td>0.0</td>\n      <td>0.0</td>\n      <td>0.0</td>\n      <td>0.0</td>\n      <td>0.0</td>\n      <td>0.0</td>\n      <td>0.0</td>\n      <td>0.0</td>\n    </tr>\n    <tr>\n      <th>10</th>\n      <td>0.0</td>\n      <td>0.0</td>\n      <td>0.0</td>\n      <td>0.0</td>\n      <td>1.0</td>\n      <td>0.0</td>\n      <td>0.0</td>\n      <td>0.0</td>\n      <td>0.0</td>\n      <td>0.0</td>\n      <td>...</td>\n      <td>0.0</td>\n      <td>0.5</td>\n      <td>0.5</td>\n      <td>0.0</td>\n      <td>0.0</td>\n      <td>0.0</td>\n      <td>0.0</td>\n      <td>0.0</td>\n      <td>0.0</td>\n      <td>0.0</td>\n    </tr>\n    <tr>\n      <th>12</th>\n      <td>1.5</td>\n      <td>0.0</td>\n      <td>0.0</td>\n      <td>0.0</td>\n      <td>0.0</td>\n      <td>0.0</td>\n      <td>0.0</td>\n      <td>0.0</td>\n      <td>0.0</td>\n      <td>0.0</td>\n      <td>...</td>\n      <td>0.0</td>\n      <td>0.0</td>\n      <td>0.0</td>\n      <td>0.0</td>\n      <td>0.0</td>\n      <td>0.0</td>\n      <td>0.0</td>\n      <td>0.0</td>\n      <td>0.0</td>\n      <td>0.0</td>\n    </tr>\n    <tr>\n      <th>21</th>\n      <td>0.0</td>\n      <td>0.0</td>\n      <td>0.0</td>\n      <td>0.0</td>\n      <td>0.0</td>\n      <td>0.0</td>\n      <td>0.0</td>\n      <td>0.0</td>\n      <td>0.0</td>\n      <td>0.0</td>\n      <td>...</td>\n      <td>0.0</td>\n      <td>0.0</td>\n      <td>0.0</td>\n      <td>0.0</td>\n      <td>0.5</td>\n      <td>0.0</td>\n      <td>0.0</td>\n      <td>0.0</td>\n      <td>0.0</td>\n      <td>0.0</td>\n    </tr>\n    <tr>\n      <th>22</th>\n      <td>0.0</td>\n      <td>0.0</td>\n      <td>0.0</td>\n      <td>0.0</td>\n      <td>0.0</td>\n      <td>0.0</td>\n      <td>0.0</td>\n      <td>1.0</td>\n      <td>0.0</td>\n      <td>0.0</td>\n      <td>...</td>\n      <td>0.0</td>\n      <td>0.0</td>\n      <td>0.0</td>\n      <td>0.0</td>\n      <td>0.0</td>\n      <td>0.0</td>\n      <td>0.0</td>\n      <td>0.0</td>\n      <td>0.0</td>\n      <td>0.0</td>\n    </tr>\n    <tr>\n      <th>25</th>\n      <td>0.0</td>\n      <td>0.0</td>\n      <td>0.0</td>\n      <td>0.0</td>\n      <td>2.5</td>\n      <td>0.0</td>\n      <td>0.0</td>\n      <td>0.0</td>\n      <td>0.0</td>\n      <td>0.0</td>\n      <td>...</td>\n      <td>0.0</td>\n      <td>0.5</td>\n      <td>0.0</td>\n      <td>0.0</td>\n      <td>0.0</td>\n      <td>0.0</td>\n      <td>0.0</td>\n      <td>0.0</td>\n      <td>0.0</td>\n      <td>0.0</td>\n    </tr>\n    <tr>\n      <th>31</th>\n      <td>0.0</td>\n      <td>1.0</td>\n      <td>0.0</td>\n      <td>0.0</td>\n      <td>0.0</td>\n      <td>0.0</td>\n      <td>0.0</td>\n      <td>0.0</td>\n      <td>0.5</td>\n      <td>0.0</td>\n      <td>...</td>\n      <td>0.0</td>\n      <td>0.0</td>\n      <td>0.0</td>\n      <td>0.0</td>\n      <td>0.0</td>\n      <td>0.0</td>\n      <td>0.0</td>\n      <td>0.0</td>\n      <td>0.0</td>\n      <td>0.0</td>\n    </tr>\n    <tr>\n      <th>32</th>\n      <td>0.0</td>\n      <td>0.0</td>\n      <td>0.0</td>\n      <td>0.0</td>\n      <td>0.0</td>\n      <td>0.0</td>\n      <td>0.0</td>\n      <td>0.0</td>\n      <td>0.0</td>\n      <td>0.0</td>\n      <td>...</td>\n      <td>0.0</td>\n      <td>0.0</td>\n      <td>0.0</td>\n      <td>0.0</td>\n      <td>0.0</td>\n      <td>0.0</td>\n      <td>0.0</td>\n      <td>0.0</td>\n      <td>0.0</td>\n      <td>0.0</td>\n    </tr>\n    <tr>\n      <th>33</th>\n      <td>0.0</td>\n      <td>0.0</td>\n      <td>0.0</td>\n      <td>0.0</td>\n      <td>0.0</td>\n      <td>0.0</td>\n      <td>0.0</td>\n      <td>0.0</td>\n      <td>0.0</td>\n      <td>0.0</td>\n      <td>...</td>\n      <td>0.0</td>\n      <td>0.0</td>\n      <td>0.0</td>\n      <td>0.0</td>\n      <td>0.0</td>\n      <td>0.0</td>\n      <td>0.0</td>\n      <td>0.0</td>\n      <td>0.0</td>\n      <td>0.0</td>\n    </tr>\n    <tr>\n      <th>35</th>\n      <td>0.0</td>\n      <td>0.0</td>\n      <td>0.0</td>\n      <td>0.0</td>\n      <td>0.0</td>\n      <td>0.0</td>\n      <td>0.0</td>\n      <td>0.0</td>\n      <td>0.0</td>\n      <td>0.0</td>\n      <td>...</td>\n      <td>0.0</td>\n      <td>0.0</td>\n      <td>0.0</td>\n      <td>0.0</td>\n      <td>0.0</td>\n      <td>0.0</td>\n      <td>0.0</td>\n      <td>0.0</td>\n      <td>0.0</td>\n      <td>0.0</td>\n    </tr>\n    <tr>\n      <th>36</th>\n      <td>0.0</td>\n      <td>0.0</td>\n      <td>0.0</td>\n      <td>0.0</td>\n      <td>0.0</td>\n      <td>0.0</td>\n      <td>0.0</td>\n      <td>0.0</td>\n      <td>0.0</td>\n      <td>0.0</td>\n      <td>...</td>\n      <td>0.0</td>\n      <td>0.0</td>\n      <td>0.0</td>\n      <td>0.0</td>\n      <td>0.0</td>\n      <td>0.0</td>\n      <td>0.0</td>\n      <td>0.0</td>\n      <td>0.0</td>\n      <td>0.0</td>\n    </tr>\n    <tr>\n      <th>37</th>\n      <td>0.0</td>\n      <td>0.0</td>\n      <td>0.0</td>\n      <td>0.0</td>\n      <td>0.0</td>\n      <td>0.0</td>\n      <td>0.0</td>\n      <td>0.0</td>\n      <td>0.5</td>\n      <td>0.0</td>\n      <td>...</td>\n      <td>0.0</td>\n      <td>0.0</td>\n      <td>0.0</td>\n      <td>0.0</td>\n      <td>0.0</td>\n      <td>0.0</td>\n      <td>0.0</td>\n      <td>0.0</td>\n      <td>0.0</td>\n      <td>0.0</td>\n    </tr>\n    <tr>\n      <th>40</th>\n      <td>0.0</td>\n      <td>0.0</td>\n      <td>0.0</td>\n      <td>0.0</td>\n      <td>0.0</td>\n      <td>0.0</td>\n      <td>0.0</td>\n      <td>0.0</td>\n      <td>0.0</td>\n      <td>0.0</td>\n      <td>...</td>\n      <td>0.0</td>\n      <td>0.0</td>\n      <td>0.0</td>\n      <td>0.0</td>\n      <td>0.0</td>\n      <td>0.0</td>\n      <td>0.0</td>\n      <td>0.0</td>\n      <td>0.0</td>\n      <td>0.0</td>\n    </tr>\n    <tr>\n      <th>45</th>\n      <td>0.0</td>\n      <td>0.5</td>\n      <td>0.0</td>\n      <td>0.0</td>\n      <td>0.0</td>\n      <td>0.0</td>\n      <td>0.0</td>\n      <td>0.0</td>\n      <td>1.0</td>\n      <td>0.0</td>\n      <td>...</td>\n      <td>0.5</td>\n      <td>0.0</td>\n      <td>0.0</td>\n      <td>0.0</td>\n      <td>0.0</td>\n      <td>0.0</td>\n      <td>0.0</td>\n      <td>0.0</td>\n      <td>0.0</td>\n      <td>0.0</td>\n    </tr>\n    <tr>\n      <th>46</th>\n      <td>0.0</td>\n      <td>0.0</td>\n      <td>0.0</td>\n      <td>0.0</td>\n      <td>0.0</td>\n      <td>0.0</td>\n      <td>0.0</td>\n      <td>0.0</td>\n      <td>0.0</td>\n      <td>0.0</td>\n      <td>...</td>\n      <td>0.0</td>\n      <td>0.0</td>\n      <td>0.0</td>\n      <td>0.0</td>\n      <td>0.0</td>\n      <td>0.0</td>\n      <td>0.0</td>\n      <td>0.0</td>\n      <td>0.0</td>\n      <td>0.0</td>\n    </tr>\n    <tr>\n      <th>51</th>\n      <td>0.0</td>\n      <td>0.0</td>\n      <td>0.0</td>\n      <td>0.0</td>\n      <td>0.0</td>\n      <td>0.0</td>\n      <td>0.0</td>\n      <td>0.0</td>\n      <td>0.0</td>\n      <td>0.0</td>\n      <td>...</td>\n      <td>0.0</td>\n      <td>0.0</td>\n      <td>0.0</td>\n      <td>0.0</td>\n      <td>0.0</td>\n      <td>0.0</td>\n      <td>0.0</td>\n      <td>0.0</td>\n      <td>0.0</td>\n      <td>0.0</td>\n    </tr>\n    <tr>\n      <th>52</th>\n      <td>0.0</td>\n      <td>0.0</td>\n      <td>0.0</td>\n      <td>0.0</td>\n      <td>0.0</td>\n      <td>0.0</td>\n      <td>0.0</td>\n      <td>0.0</td>\n      <td>0.0</td>\n      <td>0.0</td>\n      <td>...</td>\n      <td>0.0</td>\n      <td>0.0</td>\n      <td>0.0</td>\n      <td>0.0</td>\n      <td>0.0</td>\n      <td>0.0</td>\n      <td>0.0</td>\n      <td>0.0</td>\n      <td>0.0</td>\n      <td>0.0</td>\n    </tr>\n    <tr>\n      <th>55</th>\n      <td>1.5</td>\n      <td>0.0</td>\n      <td>1.5</td>\n      <td>0.0</td>\n      <td>0.0</td>\n      <td>0.0</td>\n      <td>0.0</td>\n      <td>0.0</td>\n      <td>0.0</td>\n      <td>0.0</td>\n      <td>...</td>\n      <td>0.5</td>\n      <td>0.0</td>\n      <td>0.0</td>\n      <td>0.0</td>\n      <td>0.0</td>\n      <td>0.0</td>\n      <td>0.0</td>\n      <td>0.0</td>\n      <td>0.0</td>\n      <td>0.0</td>\n    </tr>\n    <tr>\n      <th>56</th>\n      <td>0.0</td>\n      <td>0.0</td>\n      <td>0.0</td>\n      <td>0.0</td>\n      <td>0.0</td>\n      <td>0.0</td>\n      <td>0.0</td>\n      <td>0.0</td>\n      <td>0.0</td>\n      <td>0.0</td>\n      <td>...</td>\n      <td>0.0</td>\n      <td>0.0</td>\n      <td>0.0</td>\n      <td>0.0</td>\n      <td>0.0</td>\n      <td>0.0</td>\n      <td>0.0</td>\n      <td>0.0</td>\n      <td>0.0</td>\n      <td>0.0</td>\n    </tr>\n    <tr>\n      <th>57</th>\n      <td>0.0</td>\n      <td>0.0</td>\n      <td>0.0</td>\n      <td>0.0</td>\n      <td>0.0</td>\n      <td>0.0</td>\n      <td>0.0</td>\n      <td>0.0</td>\n      <td>0.0</td>\n      <td>0.0</td>\n      <td>...</td>\n      <td>1.0</td>\n      <td>0.0</td>\n      <td>0.0</td>\n      <td>0.0</td>\n      <td>0.0</td>\n      <td>0.0</td>\n      <td>0.0</td>\n      <td>0.0</td>\n      <td>0.5</td>\n      <td>0.0</td>\n    </tr>\n    <tr>\n      <th>58</th>\n      <td>0.0</td>\n      <td>0.0</td>\n      <td>0.0</td>\n      <td>0.0</td>\n      <td>0.0</td>\n      <td>0.0</td>\n      <td>0.0</td>\n      <td>0.0</td>\n      <td>1.5</td>\n      <td>0.0</td>\n      <td>...</td>\n      <td>1.0</td>\n      <td>0.0</td>\n      <td>0.0</td>\n      <td>0.0</td>\n      <td>0.0</td>\n      <td>0.0</td>\n      <td>0.0</td>\n      <td>0.0</td>\n      <td>0.5</td>\n      <td>0.0</td>\n    </tr>\n    <tr>\n      <th>59</th>\n      <td>0.0</td>\n      <td>1.0</td>\n      <td>0.0</td>\n      <td>0.0</td>\n      <td>0.0</td>\n      <td>0.0</td>\n      <td>1.5</td>\n      <td>0.0</td>\n      <td>0.5</td>\n      <td>0.0</td>\n      <td>...</td>\n      <td>0.0</td>\n      <td>0.0</td>\n      <td>0.0</td>\n      <td>0.0</td>\n      <td>0.0</td>\n      <td>0.5</td>\n      <td>0.0</td>\n      <td>0.0</td>\n      <td>0.0</td>\n      <td>0.0</td>\n    </tr>\n    <tr>\n      <th>62</th>\n      <td>0.0</td>\n      <td>2.5</td>\n      <td>0.0</td>\n      <td>2.5</td>\n      <td>4.5</td>\n      <td>3.0</td>\n      <td>0.0</td>\n      <td>1.0</td>\n      <td>0.0</td>\n      <td>0.5</td>\n      <td>...</td>\n      <td>0.0</td>\n      <td>1.0</td>\n      <td>1.0</td>\n      <td>0.0</td>\n      <td>1.0</td>\n      <td>0.0</td>\n      <td>0.0</td>\n      <td>0.0</td>\n      <td>0.0</td>\n      <td>0.0</td>\n    </tr>\n    <tr>\n      <th>68</th>\n      <td>0.0</td>\n      <td>0.0</td>\n      <td>0.0</td>\n      <td>0.0</td>\n      <td>0.0</td>\n      <td>0.0</td>\n      <td>0.0</td>\n      <td>0.0</td>\n      <td>2.0</td>\n      <td>0.0</td>\n      <td>...</td>\n      <td>1.5</td>\n      <td>0.0</td>\n      <td>0.0</td>\n      <td>0.0</td>\n      <td>0.0</td>\n      <td>2.0</td>\n      <td>2.0</td>\n      <td>0.0</td>\n      <td>1.0</td>\n      <td>0.0</td>\n    </tr>\n  </tbody>\n</table>\n<p>24 rows × 24 columns</p>\n</div>"
     },
     "execution_count": 8,
     "metadata": {},
     "output_type": "execute_result"
    }
   ],
   "source": [
    "matrix_3_weighted = matrix_3 * r_3\n",
    "matrix_4_weighted = matrix_4 * r_4\n",
    "\n",
    "ids = set(nodes_4).union(set(nodes_3))\n",
    "ids = sorted(ids, key=int)\n",
    "combined_matrix = pd.DataFrame(0, index=ids, columns=ids)\n",
    "combined_matrix += matrix_3_weighted.reindex(index=ids, columns=ids, fill_value=0)\n",
    "combined_matrix += matrix_4_weighted.reindex(index=ids, columns=ids, fill_value=0)\n",
    "combined_matrix"
   ],
   "metadata": {
    "collapsed": false,
    "ExecuteTime": {
     "end_time": "2025-05-26T10:55:20.080188200Z",
     "start_time": "2025-05-26T10:55:19.898632700Z"
    }
   }
  }
 ],
 "metadata": {
  "kernelspec": {
   "display_name": "Python 2",
   "language": "python",
   "name": "python2"
  },
  "language_info": {
   "codemirror_mode": {
    "name": "ipython",
    "version": 2
   },
   "file_extension": ".py",
   "mimetype": "text/x-python",
   "name": "python",
   "nbconvert_exporter": "python",
   "pygments_lexer": "ipython2",
   "version": "2.7.6"
  }
 },
 "nbformat": 4,
 "nbformat_minor": 0
}
